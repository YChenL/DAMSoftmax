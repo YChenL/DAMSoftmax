{
 "cells": [
  {
   "cell_type": "code",
   "execution_count": 1,
   "id": "67d5674d-6907-4375-bc5d-70c4bdb356c2",
   "metadata": {},
   "outputs": [],
   "source": [
    "import numpy as np\n",
    "import librosa\n",
    "import soundfile as sf\n",
    "import os\n",
    "import random\n",
    "import concurrent.futures"
   ]
  },
  {
   "cell_type": "code",
   "execution_count": 2,
   "id": "203d2b71-d646-47bb-b8d6-7652685a50f9",
   "metadata": {},
   "outputs": [],
   "source": [
    "def pitch_shift(path, save_path, eps=1e-3): # path ——> spk_id\n",
    "    spk_list = os.listdir(path)\n",
    "    for spk in spk_list:\n",
    "        seg_list = os.listdir(os.path.join(path, spk))\n",
    "        for seg in seg_list:\n",
    "            voice_list = os.listdir(os.path.join(path, spk, seg))\n",
    "            for voice in voice_list:      \n",
    "                try:\n",
    "                    wav, sr  = librosa.load(os.path.join(path, spk, seg, voice), sr=16000)        \n",
    "                    save_dir = os.path.join(save_path, spk, seg)\n",
    "                    if not os.path.isdir(save_dir):\n",
    "                        os.makedirs(save_dir)  \n",
    "                    \n",
    "                    # donot shift:\n",
    "                    sf.write(os.path.join(save_dir, voice), wav, 16000)\n",
    "            \n",
    "                    # raise:\n",
    "                    s=np.random.uniform(low=eps, high=12.0, size=None)\n",
    "                    wav_r = librosa.effects.pitch_shift(wav, sr=22050, n_steps=s, bins_per_octave=12)\n",
    "                    sf.write(os.path.join(save_dir, voice.split('.')[0]+'_'+str(round(s,3))+'_'+'.wav'), wav_r, 16000)\n",
    "            \n",
    "                    # lower:\n",
    "                    s=np.random.uniform(low=-12.0, high=-eps, size=None)\n",
    "                    wav_l = librosa.effects.pitch_shift(wav, sr=22050, n_steps=s, bins_per_octave=12)\n",
    "                    sf.write(os.path.join(save_dir, voice.split('.')[0]+'_'+str(round(s,3))+'_'+'.wav'), wav_l, 16000)\n",
    "                except:\n",
    "                    print(os.path.join(path, spk, seg, voice))"
   ]
  },
  {
   "cell_type": "code",
   "execution_count": 3,
   "id": "34cacc28-a1dd-4406-b5eb-a9333fa762b6",
   "metadata": {},
   "outputs": [],
   "source": [
    "path = '/root/autodl-tmp/Vox1/train'\n",
    "save_path = '/root/autodl-tmp/Vox1/train_scaled'"
   ]
  },
  {
   "cell_type": "code",
   "execution_count": null,
   "id": "0cda022f-3214-4129-b293-676aab546d8c",
   "metadata": {
    "tags": []
   },
   "outputs": [],
   "source": [
    "with concurrent.futures.ThreadPoolExecutor(max_workers=16) as executor:\n",
    "    executor.map(pitch_shift(path, save_path), range(128))"
   ]
  },
  {
   "cell_type": "code",
   "execution_count": null,
   "id": "f86a3f24-179d-4033-9db8-d342b4e88838",
   "metadata": {
    "tags": []
   },
   "outputs": [],
   "source": [
    "import multiprocessing\n",
    "\n",
    "\n",
    "# 设置一个允许3个进程并发的进程池\n",
    "pool = multiprocessing.Pool(processes = 60)\n",
    "for i in range(5000):\n",
    "\t# 将进程仍入进程池，mission 后面的这个含有 i 的tuple 代表给mission的参数\n",
    "\tpool.apply_async(pitch_shift(path, save_path), (i))\n",
    "\t\n",
    "# 扔了 1000个进程进进程池后，关闭进程池，不允许新的进程加入\n",
    "pool.close()\n",
    "# 运行进程池中的进程\n",
    "pool.join()"
   ]
  },
  {
   "cell_type": "code",
   "execution_count": null,
   "id": "f85442db-f281-4b0d-8d6c-a8d4f4140cbc",
   "metadata": {},
   "outputs": [],
   "source": [
    "1"
   ]
  },
  {
   "cell_type": "code",
   "execution_count": null,
   "id": "ef79afcc-58cc-4a85-b2c1-8f53278b6260",
   "metadata": {},
   "outputs": [],
   "source": []
  }
 ],
 "metadata": {
  "kernelspec": {
   "display_name": "Python 3 (ipykernel)",
   "language": "python",
   "name": "python3"
  },
  "language_info": {
   "codemirror_mode": {
    "name": "ipython",
    "version": 3
   },
   "file_extension": ".py",
   "mimetype": "text/x-python",
   "name": "python",
   "nbconvert_exporter": "python",
   "pygments_lexer": "ipython3",
   "version": "3.8.10"
  }
 },
 "nbformat": 4,
 "nbformat_minor": 5
}
