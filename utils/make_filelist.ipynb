{
 "cells": [
  {
   "cell_type": "code",
   "execution_count": 1,
   "id": "07dc335c-9a67-4458-a5f2-3028c90ec957",
   "metadata": {
    "tags": []
   },
   "outputs": [],
   "source": [
    "import os\n",
    "import random\n",
    "\n",
    "def make_filelist(ps_filepath, org_filepath, txt_name):\n",
    "    ps_filepath = ps_filepath\n",
    "    org_filepath= org_filepath\n",
    "    with open(txt_name+'.txt','w') as f:\n",
    "        spk_list = os.listdir(ps_filepath)\n",
    "        spk_id = 0\n",
    "        for spk in spk_list:\n",
    "            file_list = os.listdir(os.path.join(ps_filepath, spk))\n",
    "            for file in file_list:\n",
    "                orgfile_path = os.listdir(os.path.join(org_filepath, spk))\n",
    "                # random.seed(1234)\n",
    "                # random.shuffle(orgfile_path)  \n",
    "                f.write(os.path.join(ps_filepath,  spk, file)+' '+\\\n",
    "                        os.path.join(org_filepath, spk, file.split('_')[0]+'.wav')+' '+\\\n",
    "                        str(spk_id)+' '+\\\n",
    "                        str(file.split('_')[1])+'\\n')  \n",
    "                \n",
    "            spk_id += 1 "
   ]
  },
  {
   "cell_type": "code",
   "execution_count": 2,
   "id": "b8cd5f1b-ccf3-461a-8be9-75cd3850d536",
   "metadata": {},
   "outputs": [],
   "source": [
    "def make_filelist_Vox(ps_filepath, org_filepath, txt_name):\n",
    "    ps_filepath = ps_filepath\n",
    "    org_filepath= org_filepath\n",
    "    with open(txt_name+'.txt','w') as f:\n",
    "        spk_list = os.listdir(ps_filepath)\n",
    "        spk_id = 0\n",
    "        for spk in spk_list:\n",
    "            seg_list = os.listdir(os.path.join(ps_filepath, spk))\n",
    "            for seg in seg_list:\n",
    "                file_list = os.listdir(os.path.join(ps_filepath, spk, seg))\n",
    "                for file in file_list:\n",
    "                    file_path = os.path.join(ps_filepath, spk, seg, file)\n",
    "                    if len(file.split('_'))>1:   \n",
    "                        org_path  = os.path.join(org_filepath, spk, seg, file.split('_')[0]+'.wav')       \n",
    "                        f.write(file_path+' '+org_path+' '+\\\n",
    "                                str(spk_id)+' '+\\\n",
    "                                str(file.split('_')[1])+'\\n')  \n",
    "                    else:\n",
    "                        org_path  = os.path.join(org_filepath, spk, seg, file)       \n",
    "                        f.write(file_path+' '+org_path+' '+\\\n",
    "                                str(spk_id)+' '+\\\n",
    "                                str(0.0)+'\\n')  \n",
    "                        \n",
    "                                \n",
    "            spk_id += 1 "
   ]
  },
  {
   "cell_type": "code",
   "execution_count": 3,
   "id": "33b56dad-2397-4737-b8a7-a2f68e68b6f5",
   "metadata": {},
   "outputs": [],
   "source": [
    "def make_filelist_eval(filepath, txt_name):\n",
    "    with open(txt_name+'.txt','w') as f:\n",
    "        spk_list = os.listdir(filepath)\n",
    "       \n",
    "        \n",
    "        for spk in spk_list:\n",
    "            spk_list.remove(spk)\n",
    "            seg_list = os.listdir(os.path.join(filepath, spk))\n",
    "       \n",
    "            for seg in seg_list:\n",
    "                file_list = os.listdir(os.path.join(filepath, spk, seg))\n",
    "                \n",
    "                for file in file_list:\n",
    "                    file_path = os.path.join(spk, seg, file)\n",
    "                    \n",
    "                    for i in range(1):\n",
    "                        random.shuffle(seg_list)\n",
    "                        rand_seg = seg_list[0]\n",
    "                        rand_file_list = os.listdir(os.path.join(filepath, spk, rand_seg))\n",
    "                        random.shuffle(rand_file_list)\n",
    "                        rand_file = rand_file_list[0]\n",
    "                        rand_file_path = os.path.join(spk, rand_seg, rand_file)\n",
    "                        f.write(str(1)+' '+file_path+' '+rand_file_path+'\\n')\n",
    "                    \n",
    "                        random.shuffle(spk_list)\n",
    "                        rand_spk = spk_list[0]\n",
    "                        rand_spk_seg_list = os.listdir(os.path.join(filepath, rand_spk))\n",
    "                        random.shuffle(rand_spk_seg_list)\n",
    "                        rand_spk_seg = rand_spk_seg_list[0]\n",
    "                        rand_spk_file_list = os.listdir(os.path.join(filepath, rand_spk, rand_spk_seg))\n",
    "                        random.shuffle(rand_spk_file_list)\n",
    "                        rand_spk_file = rand_spk_file_list[0]\n",
    "                        diff_file_path = os.path.join(rand_spk, rand_spk_seg, rand_spk_file)\n",
    "                        f.write(str(0)+' '+file_path+' '+diff_file_path+'\\n')\n",
    "                    \n",
    "                    \n",
    "                    \n",
    "            spk_list.append(spk)\n",
    "                         "
   ]
  },
  {
   "cell_type": "code",
   "execution_count": 11,
   "id": "d7bda524-6788-4469-bf91-5b5ddb145a15",
   "metadata": {},
   "outputs": [],
   "source": [
    "path = '/root/autodl-tmp/vox1_test/wav'\n",
    "save_path = '/root/autodl-tmp/vox1_test/wav'"
   ]
  },
  {
   "cell_type": "code",
   "execution_count": 4,
   "id": "47af9afe-a86b-4daf-aaf2-46e674590fb7",
   "metadata": {},
   "outputs": [],
   "source": [
    "path = '/root/autodl-tmp/Dataset/ASV/Vox1/train_scaled/'"
   ]
  },
  {
   "cell_type": "code",
   "execution_count": 4,
   "id": "13877156-e96b-4bf7-88ac-0205a4e5b321",
   "metadata": {},
   "outputs": [],
   "source": [
    "make_filelist_Vox(path, save_path,'filelist_Vox1_test')"
   ]
  },
  {
   "cell_type": "code",
   "execution_count": null,
   "id": "6bdb9c5b-f68c-429e-97ae-b2abc9232e89",
   "metadata": {},
   "outputs": [],
   "source": [
    "make_filelist_eval(path, 'filelist_Vox1_val')"
   ]
  },
  {
   "cell_type": "code",
   "execution_count": 1,
   "id": "b7f6dd06-f53b-4e78-8cca-409c3e381352",
   "metadata": {},
   "outputs": [
    {
     "data": {
      "text/plain": [
       "1"
      ]
     },
     "execution_count": 1,
     "metadata": {},
     "output_type": "execute_result"
    }
   ],
   "source": [
    "1"
   ]
  },
  {
   "cell_type": "code",
   "execution_count": null,
   "id": "dc666c83-7714-4e3a-a68b-60af770fd5d7",
   "metadata": {},
   "outputs": [],
   "source": []
  }
 ],
 "metadata": {
  "kernelspec": {
   "display_name": "Python 3 (ipykernel)",
   "language": "python",
   "name": "python3"
  },
  "language_info": {
   "codemirror_mode": {
    "name": "ipython",
    "version": 3
   },
   "file_extension": ".py",
   "mimetype": "text/x-python",
   "name": "python",
   "nbconvert_exporter": "python",
   "pygments_lexer": "ipython3",
   "version": "3.8.10"
  }
 },
 "nbformat": 4,
 "nbformat_minor": 5
}
